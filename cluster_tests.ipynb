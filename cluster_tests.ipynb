{
 "cells": [
  {
   "cell_type": "markdown",
   "id": "cfd10145-d8c6-4438-a577-ab729942f1ff",
   "metadata": {},
   "source": [
    "# Dimensionality Reduction and Clustering Tests\n",
    "\n",
    "**Data Science with AIML**<br>\n",
    "MITES Summer 2025<br>\n",
    "2025-07-16\n",
    "\n",
    "My attempts at **dimensionality reduction**, and **clustering** of the OpenPayments Medical Data with HDBSCAN and Keppler Mapper "
   ]
  },
  {
   "cell_type": "markdown",
   "id": "7caefdca-542a-42f7-9f00-faaee60c5bbd",
   "metadata": {},
   "source": [
    "These are the Python imports we're using:"
   ]
  },
  {
   "cell_type": "code",
   "execution_count": 13,
   "id": "35ebdc9f-50ab-473c-b735-65b56183fbbd",
   "metadata": {},
   "outputs": [],
   "source": [
    "from pathlib import Path\n",
    "import time\n",
    "from statistics import median_high as median\n",
    "import warnings\n",
    "import random\n",
    "warnings.simplefilter(action=\"ignore\", category=(UserWarning, FutureWarning))\n",
    "import math\n",
    "\n",
    "import pandas as pd\n",
    "import numpy as np\n",
    "import matplotlib.pyplot as plt\n",
    "import umap.umap_ as umap\n",
    "import hdbscan\n",
    "from sklearn.feature_extraction.text import CountVectorizer\n",
    "\n"
   ]
  },
  {
   "cell_type": "code",
   "execution_count": 2,
   "id": "cfe70e2b",
   "metadata": {},
   "outputs": [],
   "source": [
    "def remove_nan(PATH_TO_FILE):\n",
    "    df = pd.read_csv(PATH_TO_FILE, low_memory = False)\n",
    "\n",
    "    pd.reset_option('display.max_rows')\n",
    "    pd.options.display.max_columns = None\n",
    "\n",
    "    #Counts the number of Nans under each column and displays it in a list\n",
    "    counts_list = []\n",
    "    for name, current_column in df.items():\n",
    "        count = 0\n",
    "        for value in current_column:\n",
    "            if type(value) is float:\n",
    "                if math.isnan(value):\n",
    "                    count += 1\n",
    "        counts_list.append(count)\n",
    "\n",
    "        \n",
    "    #Take the list of number of Nans for each columns\n",
    "    #And convert that list to a list of percentages of how much of each column  is NaN\n",
    "    percentages_list=[]\n",
    "    for current_count in counts_list:\n",
    "        percentages_list.append(current_count / len(df) * 100)\n",
    "        \n",
    "    #Format those percentages to remove extraneous decimal points\n",
    "    formatted_percentage_list = [\"{:.1f}\".format(percentage) for percentage in percentages_list]\n",
    "\n",
    "    #Find out which columns must be removed, and make a cleaned data frame \n",
    "    list_of_column_names = []\n",
    "    for index, percentage in enumerate(formatted_percentage_list):\n",
    "        if float(percentage) > 80.0: #Percentage Threshold of whether the column should be deleted\n",
    "            list_of_column_names.append(df.columns[index])\n",
    "\n",
    "    cleaned_df = df.copy()\n",
    "    cleaned_df.drop(columns=list_of_column_names, inplace=True)\n",
    "\n",
    "\n",
    "\n",
    "    # print (len(df.columns))\n",
    "    # print (len(cleaned_df.columns))\n",
    "    # print(\"\\n \\n ------------------Headers in cleaned data set------------------ \\n \")\n",
    "    # print(list(cleaned_df.columns))\n",
    "\n",
    "    return cleaned_df\n",
    "\n",
    "\n",
    "PATH_TO_FILE = \"C:/Users/mjkuo/Documents/MITES_Summer_ML/MLFP/2024HealthcareFiles/OP_DTL_RSRCH_PGYR2024_P06302025_06162025.csv\"\n",
    "cleaned_df = remove_nan(PATH_TO_FILE)"
   ]
  },
  {
   "cell_type": "markdown",
   "id": "667a455c-d580-4917-a836-70297a1c03ae",
   "metadata": {},
   "source": [
    "## Dimensionality reduction\n",
    "\n",
    "OK but 300+ dimensions is too much.... Let's tone this down to 2 dimensions and then plot it."
   ]
  },
  {
   "cell_type": "code",
   "execution_count": 14,
   "id": "8afa55df-234f-4e45-afd3-8f99b9ac923d",
   "metadata": {},
   "outputs": [],
   "source": [
    "reducer = umap.UMAP(random_state=23, n_components=12)"
   ]
  },
  {
   "cell_type": "code",
   "execution_count": null,
   "id": "f4865340-c4f9-4172-b0ec-7a64f53172e7",
   "metadata": {},
   "outputs": [
    {
     "ename": "ValueError",
     "evalue": "could not convert string to float: 'ADD'",
     "output_type": "error",
     "traceback": [
      "\u001b[31m---------------------------------------------------------------------------\u001b[39m",
      "\u001b[31mValueError\u001b[39m                                Traceback (most recent call last)",
      "\u001b[32m~\\AppData\\Local\\Temp\\ipykernel_44388\\271199565.py\u001b[39m in \u001b[36m?\u001b[39m\u001b[34m()\u001b[39m\n\u001b[32m----> \u001b[39m\u001b[32m1\u001b[39m reduced_embeddings = reducer.fit(cleaned_df)\n\u001b[32m      2\u001b[39m \n\u001b[32m      3\u001b[39m print(reduced_embeddings.shape)\n\u001b[32m      4\u001b[39m reduced_embeddings\n",
      "\u001b[32mc:\\Users\\mjkuo\\Documents\\MITES_Summer_ML\\MLFP\\mlfp\\venv\\Lib\\site-packages\\umap\\umap_.py\u001b[39m in \u001b[36m?\u001b[39m\u001b[34m(self, X, y, ensure_all_finite, **kwargs)\u001b[39m\n\u001b[32m   2368\u001b[39m             X = check_array(\n\u001b[32m   2369\u001b[39m                 X, dtype=np.uint8, order=\u001b[33m\"C\"\u001b[39m, ensure_all_finite=ensure_all_finite\n\u001b[32m   2370\u001b[39m             )\n\u001b[32m   2371\u001b[39m         \u001b[38;5;28;01melse\u001b[39;00m:\n\u001b[32m-> \u001b[39m\u001b[32m2372\u001b[39m             X = check_array(\n\u001b[32m   2373\u001b[39m                 X,\n\u001b[32m   2374\u001b[39m                 dtype=np.float32,\n\u001b[32m   2375\u001b[39m                 accept_sparse=\u001b[33m\"csr\"\u001b[39m,\n",
      "\u001b[32mc:\\Users\\mjkuo\\Documents\\MITES_Summer_ML\\MLFP\\mlfp\\venv\\Lib\\site-packages\\sklearn\\utils\\validation.py\u001b[39m in \u001b[36m?\u001b[39m\u001b[34m(array, accept_sparse, accept_large_sparse, dtype, order, copy, force_writeable, force_all_finite, ensure_all_finite, ensure_non_negative, ensure_2d, allow_nd, ensure_min_samples, ensure_min_features, estimator, input_name)\u001b[39m\n\u001b[32m   1050\u001b[39m                         )\n\u001b[32m   1051\u001b[39m                     array = xp.astype(array, dtype, copy=\u001b[38;5;28;01mFalse\u001b[39;00m)\n\u001b[32m   1052\u001b[39m                 \u001b[38;5;28;01melse\u001b[39;00m:\n\u001b[32m   1053\u001b[39m                     array = _asarray_with_order(array, order=order, dtype=dtype, xp=xp)\n\u001b[32m-> \u001b[39m\u001b[32m1054\u001b[39m             \u001b[38;5;28;01mexcept\u001b[39;00m ComplexWarning \u001b[38;5;28;01mas\u001b[39;00m complex_warning:\n\u001b[32m   1055\u001b[39m                 raise ValueError(\n\u001b[32m   1056\u001b[39m                     \u001b[33m\"Complex data not supported\\n{}\\n\"\u001b[39m.format(array)\n\u001b[32m   1057\u001b[39m                 ) \u001b[38;5;28;01mfrom\u001b[39;00m complex_warning\n",
      "\u001b[32mc:\\Users\\mjkuo\\Documents\\MITES_Summer_ML\\MLFP\\mlfp\\venv\\Lib\\site-packages\\sklearn\\utils\\_array_api.py\u001b[39m in \u001b[36m?\u001b[39m\u001b[34m(array, dtype, order, copy, xp, device)\u001b[39m\n\u001b[32m    753\u001b[39m         \u001b[38;5;66;03m# Use NumPy API to support order\u001b[39;00m\n\u001b[32m    754\u001b[39m         \u001b[38;5;28;01mif\u001b[39;00m copy \u001b[38;5;28;01mis\u001b[39;00m \u001b[38;5;28;01mTrue\u001b[39;00m:\n\u001b[32m    755\u001b[39m             array = numpy.array(array, order=order, dtype=dtype)\n\u001b[32m    756\u001b[39m         \u001b[38;5;28;01melse\u001b[39;00m:\n\u001b[32m--> \u001b[39m\u001b[32m757\u001b[39m             array = numpy.asarray(array, order=order, dtype=dtype)\n\u001b[32m    758\u001b[39m \n\u001b[32m    759\u001b[39m         \u001b[38;5;66;03m# At this point array is a NumPy ndarray. We convert it to an array\u001b[39;00m\n\u001b[32m    760\u001b[39m         \u001b[38;5;66;03m# container that is consistent with the input's namespace.\u001b[39;00m\n",
      "\u001b[32mc:\\Users\\mjkuo\\Documents\\MITES_Summer_ML\\MLFP\\mlfp\\venv\\Lib\\site-packages\\pandas\\core\\generic.py\u001b[39m in \u001b[36m?\u001b[39m\u001b[34m(self, dtype, copy)\u001b[39m\n\u001b[32m   2164\u001b[39m             )\n\u001b[32m   2165\u001b[39m         values = self._values\n\u001b[32m   2166\u001b[39m         \u001b[38;5;28;01mif\u001b[39;00m copy \u001b[38;5;28;01mis\u001b[39;00m \u001b[38;5;28;01mNone\u001b[39;00m:\n\u001b[32m   2167\u001b[39m             \u001b[38;5;66;03m# Note: branch avoids `copy=None` for NumPy 1.x support\u001b[39;00m\n\u001b[32m-> \u001b[39m\u001b[32m2168\u001b[39m             arr = np.asarray(values, dtype=dtype)\n\u001b[32m   2169\u001b[39m         \u001b[38;5;28;01melse\u001b[39;00m:\n\u001b[32m   2170\u001b[39m             arr = np.array(values, dtype=dtype, copy=copy)\n\u001b[32m   2171\u001b[39m \n",
      "\u001b[31mValueError\u001b[39m: could not convert string to float: 'ADD'"
     ]
    }
   ],
   "source": [
    "# reduced_embeddings = reducer.fit_transform(cleaned_df)\n",
    "\n",
    "# print(reduced_embeddings.shape)\n",
    "# reduced_embeddings"
   ]
  },
  {
   "cell_type": "code",
   "execution_count": 49,
   "id": "681f5838-a6cc-4222-964f-d7a0e554777e",
   "metadata": {},
   "outputs": [
    {
     "data": {
      "image/png": "[encoded data removed]",
      "text/plain": [
       "<Figure size 640x480 with 1 Axes>"
      ]
     },
     "metadata": {},
     "output_type": "display_data"
    },
    {
     "name": "stdout",
     "output_type": "stream",
     "text": [
      "['ModernaTX, Inc.', 'Novartis Pharmaceuticals Corporation', 'PFIZER INC.', 'Eli Lilly and Company', 'Merck Sharp & Dohme LLC']\n",
      "662825759.6799968\n",
      "654310301.6199994\n",
      "626184002.4200023\n",
      "626090349.8600003\n",
      "497541871.4700009\n"
     ]
    }
   ],
   "source": [
    "plot_title = \"Data Embeddings Visualization\"\n",
    "\n",
    "companies = cleaned_df[\"Applicable_Manufacturer_or_Applicable_GPO_Making_Payment_Name\"]\n",
    "money = cleaned_df[\"Total_Amount_of_Payment_USDollars\"]\n",
    "\n",
    "company_spending = {}\n",
    "for i in range(len(companies)):\n",
    "    if companies[i] not in company_spending:\n",
    "        company_spending[companies[i]] = 0\n",
    "    company_spending[companies[i]] += money[i]\n",
    "\n",
    "sorted_money = sorted(company_spending, \n",
    "                          key=lambda co: company_spending[co], \n",
    "                          reverse=True)\n",
    "\n",
    "sorted_spending = {\n",
    "    co: company_spending[co] for co in sorted_money\n",
    "}\n",
    "\n",
    "number = 5\n",
    "plt.bar([i for i in range(number)], list(sorted_spending.values())[:number], tick_label=list(sorted_spending.keys())[:number])\n",
    "plt.title(plot_title)\n",
    "plt.show()\n",
    "\n",
    "print(sorted_money[:number])\n",
    "for i in sorted_money[:number]:\n",
    "    print(sorted_spending[i])"
   ]
  },
  {
   "cell_type": "code",
   "execution_count": 26,
   "id": "0d616f8b",
   "metadata": {},
   "outputs": [],
   "source": [
    "df = pd.read_csv('../2024HealthcareFiles/OP_DTL_RSRCH_PGYR2024_P06302025_06162025.csv', low_memory=False)\n",
    "\n"
   ]
  },
  {
   "cell_type": "markdown",
   "id": "42d58744-c1e8-45dd-a784-ceee6ee71e70",
   "metadata": {},
   "source": [
    "Does this shape look interesting?"
   ]
  },
  {
   "cell_type": "markdown",
   "id": "bfba4a8b-e23b-4bd9-9145-349c06782a78",
   "metadata": {},
   "source": [
    "## Clustering\n",
    "\n",
    "Chance are, there's *some* shape to your data, but what are those data points? We can use clustering methods to cluster the data into meaningful groups, and then we'll plot again with some color."
   ]
  },
  {
   "cell_type": "code",
   "execution_count": null,
   "id": "bb366617-6f19-4ede-bbed-9e20e766484b",
   "metadata": {},
   "outputs": [],
   "source": [
    "clusterer = hdbscan.HDBSCAN()"
   ]
  },
  {
   "cell_type": "code",
   "execution_count": null,
   "id": "69e6f6bc-9827-4c40-85d8-ff40679da63f",
   "metadata": {},
   "outputs": [],
   "source": [
    "clusterer.fit(reduced_embeddings)\n",
    "\n",
    "labels = [int(i) for i in sorted(set(clusterer.labels_))]\n",
    "\n",
    "print(labels)"
   ]
  },
  {
   "cell_type": "markdown",
   "id": "312a086e-4a56-4773-b91d-7067385c385f",
   "metadata": {},
   "source": [
    "Let's try plotting again, this time coloring the dots by the cluster."
   ]
  },
  {
   "cell_type": "code",
   "execution_count": null,
   "id": "1d1326bc-31ec-48a2-b85c-41d53d1f4144",
   "metadata": {},
   "outputs": [],
   "source": [
    "plt.scatter(x, y, c=clusterer.labels_)\n",
    "plt.title(plot_title)\n",
    "plt.show()"
   ]
  },
  {
   "cell_type": "markdown",
   "id": "9c410bb2-14f1-4236-afb9-5c1f6d80148e",
   "metadata": {},
   "source": [
    "Cool! But now what even are these clusters about? Remember, each dot represents **one sentence** from your text corpus. Let's randomly sample a few from each cluster to see what they're about."
   ]
  },
  {
   "cell_type": "code",
   "execution_count": null,
   "id": "5cda2dc0-bfd4-4a77-baa0-3c1d6b2fe54a",
   "metadata": {},
   "outputs": [],
   "source": [
    "# organize clusters into list\n",
    "clusters = []\n",
    "for label in labels:\n",
    "    mask = clusterer.labels_ == label\n",
    "    clusters.append(sentences[mask])"
   ]
  },
  {
   "cell_type": "code",
   "execution_count": null,
   "id": "7120da91-8af2-4707-b62e-f96554201ec3",
   "metadata": {},
   "outputs": [],
   "source": [
    "# randomly sample k sentences from each cluster\n",
    "# (note: same sentence might appear more than once\n",
    "# for small clusters)\n",
    "k = 5\n",
    "\n",
    "for i, cluster in enumerate(clusters):\n",
    "    print(f\"Cluster {i}:\")\n",
    "    random_sentences = random.choices(cluster, k=k)\n",
    "    for sentence in random_sentences:\n",
    "        print(f\"- {sentence}\")\n",
    "    print()\n",
    "\n",
    "print(clusters[0])"
   ]
  },
  {
   "cell_type": "markdown",
   "id": "5d08cde2-8539-438a-a308-c3f5062e8423",
   "metadata": {},
   "source": [
    "## Naming the clusters\n",
    "\n"
   ]
  },
  {
   "cell_type": "code",
   "execution_count": null,
   "id": "8ddbd6a9-1d0b-474d-b270-44b67b870ce2",
   "metadata": {},
   "outputs": [],
   "source": [
    "def clean(text):\n",
    "    \"\"\"Standardize the text\n",
    "\n",
    "    Make lowercase, separate punctuation, fix spacing.\n",
    "\n",
    "    Args:\n",
    "        text (str): The text to standardize\n",
    "\n",
    "    Returns:\n",
    "        str: The cleaned up text\n",
    "    \"\"\"\n",
    "    text = text.lower()\n",
    "    text = text.replace(\"\\n\", \" \")\n",
    "    text = text.replace(\"!\", \"  \")\n",
    "    text = text.replace(\"?\", \"  \")\n",
    "    text = text.replace(\". \", \"  \")\n",
    "    text = text.replace(\",\", \"  \")\n",
    "    text = text.replace('''\"''', '''  ''') # Min-Jae added this\n",
    "    text = text.replace(\"(\", \"  \") # Min-Jae added this\n",
    "    text = text.replace(\")\", \"  \") # Min-Jae added this\n",
    "    text = text.replace(\" \", \"  \") # Min-Jae added this\n",
    "\n",
    "    while \"  \" in text:\n",
    "        text = text.replace(\"  \", \" \")\n",
    "\n",
    "    return text\n",
    "\n",
    "def tokenize(text):\n",
    "    \"\"\"Clean & tokenize the text\n",
    "\n",
    "    Args:\n",
    "        text (str): The text to tokenize\n",
    "\n",
    "    Returns:\n",
    "        list[str]: The tokenized text, as a list of str\n",
    "    \"\"\"\n",
    "    text = clean(text)\n",
    "    tokens = text.split(\" \")\n",
    "    if tokens[-1] == \"\":\n",
    "        tokens = tokens[:-1]\n",
    "    if tokens[0] == \"\":\n",
    "        tokens.pop(0)\n",
    "    return tokens\n",
    "\n",
    "stop_words = [\"the\", \"and\", \"is\", \"are\", \"of\", \"in\", \"a\", \"to\", \"as\", \"or\", \"such\", \"for\", \"at\", \"was\", \"that\", \"their\", \"can\", \"with\"]\n",
    "\n",
    "def remove_stop_words(word_list):\n",
    "    for stop_word in stop_words:\n",
    "        while stop_word in word_list:\n",
    "            word_list.remove(stop_word)\n",
    "    return word_list"
   ]
  },
  {
   "cell_type": "code",
   "execution_count": null,
   "id": "4ff534fd-1508-47c9-9eeb-e8ad8053caa2",
   "metadata": {},
   "outputs": [],
   "source": [
    "# find most common words in each cluster\n",
    "for i, cluster in enumerate(clusters):\n",
    "    word_counter = {}\n",
    "    \n",
    "    for sentence in cluster:\n",
    "        cleaned = clean(sentence)\n",
    "        tokens = tokenize(cleaned)\n",
    "        unstopped_tokens = remove_stop_words(tokens)\n",
    "        \n",
    "        for word in unstopped_tokens:\n",
    "            if word not in word_counter:\n",
    "                word_counter[word] = 0\n",
    "            word_counter[word] += 1\n",
    "            \n",
    "    sorted_words = sorted(word_counter, key=lambda word: word_counter[word], reverse=True)\n",
    "    word_counter = {word: word_counter[word] for word in sorted_words}\n",
    "    word_df = pd.DataFrame({\"Word\": word_counter.keys(), \"Frequency\": word_counter.values()})\n",
    "    print(f\"Cluster {i} Name:\")\n",
    "    print(*word_df.head(3)[\"Word\"].values)\n",
    "    print()\n",
    "    "
   ]
  }
 ],
 "metadata": {
  "kernelspec": {
   "display_name": "venv",
   "language": "python",
   "name": "python3"
  },
  "language_info": {
   "codemirror_mode": {
    "name": "ipython",
    "version": 3
   },
   "file_extension": ".py",
   "mimetype": "text/x-python",
   "name": "python",
   "nbconvert_exporter": "python",
   "pygments_lexer": "ipython3",
   "version": "3.12.10"
  }
 },
 "nbformat": 4,
 "nbformat_minor": 5
}
