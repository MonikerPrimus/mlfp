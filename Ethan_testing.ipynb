{
 "cells": [
  {
   "cell_type": "code",
   "execution_count": null,
   "id": "ab8b6bec-74f2-483e-8e2b-382f120b884e",
   "metadata": {
    "scrolled": true
   },
   "outputs": [],
   "source": [
    "import pandas as pd\n",
    "import math\n",
    "\n",
    "df = pd.read_csv('../2024HealthcareFiles/OP_DTL_RSRCH_PGYR2024_P06302025_06162025.csv', low_memory = False)\n",
    "\n",
    "pd.reset_option('display.max_rows')\n",
    "pd.options.display.max_columns = None\n"
   ]
  },
  {
   "cell_type": "code",
   "execution_count": 2,
   "id": "990cd96a-470b-465f-a33c-a68f07705e46",
   "metadata": {},
   "outputs": [],
   "source": [
    "#Counts the number of Nans under each column and displays it in a list\n",
    "counts_list = []\n",
    "for name, current_column in df.items():\n",
    "    count = 0\n",
    "    for value in current_column:\n",
    "        if type(value) is float:\n",
    "            if math.isnan(value):\n",
    "                count += 1\n",
    "    counts_list.append(count)\n"
   ]
  },
  {
   "cell_type": "code",
   "execution_count": 3,
   "id": "190e9482-69ef-4021-bc7a-fee6983b35d0",
   "metadata": {},
   "outputs": [],
   "source": [
    "\n",
    "#Take the list of number of Nans for each columns\n",
    "#And convert that list to a list of percentages of how much of each column  is NaN\n",
    "percentages_list=[]\n",
    "for current_count in counts_list:\n",
    "    percentages_list.append(current_count / len(df) * 100)\n",
    "    \n",
    "#Format those percentages to remove extraneous decimal points\n",
    "formatted_percentage_list = [\"{:.1f}\".format(percentage) for percentage in percentages_list]\n"
   ]
  },
  {
   "cell_type": "code",
   "execution_count": 4,
   "id": "48a22e2d-3f8c-4569-9846-1f92c2f102e8",
   "metadata": {},
   "outputs": [
    {
     "name": "stdout",
     "output_type": "stream",
     "text": [
      "252\n",
      "45\n",
      "\n",
      " \n",
      " ------------------Headers in cleaned data set------------------ \n",
      " \n",
      "['Change_Type', 'Covered_Recipient_Type', 'Noncovered_Recipient_Entity_Name', 'Recipient_Primary_Business_Street_Address_Line1', 'Recipient_City', 'Recipient_State', 'Recipient_Zip_Code', 'Recipient_Country', 'Principal_Investigator_1_Covered_Recipient_Type', 'Principal_Investigator_1_Profile_ID', 'Principal_Investigator_1_NPI', 'Principal_Investigator_1_First_Name', 'Principal_Investigator_1_Middle_Name', 'Principal_Investigator_1_Last_Name', 'Principal_Investigator_1_Business_Street_Address_Line1', 'Principal_Investigator_1_Business_Street_Address_Line2', 'Principal_Investigator_1_City', 'Principal_Investigator_1_State', 'Principal_Investigator_1_Zip_Code', 'Principal_Investigator_1_Country', 'Principal_Investigator_1_Primary_Type_1', 'Principal_Investigator_1_Specialty_1', 'Principal_Investigator_1_License_State_code1', 'Submitting_Applicable_Manufacturer_or_Applicable_GPO_Name', 'Applicable_Manufacturer_or_Applicable_GPO_Making_Payment_ID', 'Applicable_Manufacturer_or_Applicable_GPO_Making_Payment_Name', 'Applicable_Manufacturer_or_Applicable_GPO_Making_Payment_State', 'Applicable_Manufacturer_or_Applicable_GPO_Making_Payment_Country', 'Related_Product_Indicator', 'Covered_or_Noncovered_Indicator_1', 'Indicate_Drug_or_Biological_or_Device_or_Medical_Supply_1', 'Product_Category_or_Therapeutic_Area_1', 'Name_of_Drug_or_Biological_or_Device_or_Medical_Supply_1', 'Associated_Drug_or_Biological_NDC_1', 'Total_Amount_of_Payment_USDollars', 'Date_of_Payment', 'Form_of_Payment_or_Transfer_of_Value', 'Preclinical_Research_Indicator', 'Delay_in_Publication_Indicator', 'Name_of_Study', 'Dispute_Status_for_Publication', 'Record_ID', 'Program_Year', 'Payment_Publication_Date', 'ClinicalTrials_Gov_Identifier']\n"
     ]
    }
   ],
   "source": [
    "#Find out which columns must be removed, and make a cleaned data frame \n",
    "list_of_column_names = []\n",
    "for index, percentage in enumerate(formatted_percentage_list):\n",
    "    if float(percentage) > 80.0: #Percentage Threshold of whether the column should be deleted\n",
    "        list_of_column_names.append(df.columns[index])\n",
    "\n",
    "cleaned_df = df.copy()\n",
    "cleaned_df.drop(columns=list_of_column_names, inplace=True)\n",
    "\n",
    "\n",
    "\n",
    "print (len(df.columns))\n",
    "print (len(cleaned_df.columns))\n",
    "print(\"\\n \\n ------------------Headers in cleaned data set------------------ \\n \")\n",
    "print(list(cleaned_df.columns))\n"
   ]
  },
  {
   "cell_type": "code",
   "execution_count": null,
   "id": "922e53ae-9216-404b-a1d1-ed33b36798e3",
   "metadata": {},
   "outputs": [],
   "source": []
  }
 ],
 "metadata": {
  "kernelspec": {
   "display_name": "venv",
   "language": "python",
   "name": "python3"
  },
  "language_info": {
   "codemirror_mode": {
    "name": "ipython",
    "version": 3
   },
   "file_extension": ".py",
   "mimetype": "text/x-python",
   "name": "python",
   "nbconvert_exporter": "python",
   "pygments_lexer": "ipython3",
   "version": "3.12.10"
  }
 },
 "nbformat": 4,
 "nbformat_minor": 5
}
