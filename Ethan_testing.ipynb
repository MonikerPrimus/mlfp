{
 "cells": [
  {
   "cell_type": "code",
   "execution_count": 3,
   "id": "393ab281-bf28-41a2-b210-87f44184e92f",
   "metadata": {},
   "outputs": [
    {
     "name": "stdout",
     "output_type": "stream",
     "text": [
      "Requirement already satisfied: pandas in c:\\users\\linst\\appdata\\local\\packages\\pythonsoftwarefoundation.python.3.13_qbz5n2kfra8p0\\localcache\\local-packages\\python39\\site-packages (2.3.1)\n",
      "Requirement already satisfied: numpy>=1.22.4 in c:\\users\\linst\\appdata\\local\\packages\\pythonsoftwarefoundation.python.3.13_qbz5n2kfra8p0\\localcache\\local-packages\\python39\\site-packages (from pandas) (2.0.2)\n",
      "Requirement already satisfied: pytz>=2020.1 in c:\\users\\linst\\appdata\\local\\packages\\pythonsoftwarefoundation.python.3.13_qbz5n2kfra8p0\\localcache\\local-packages\\python39\\site-packages (from pandas) (2025.2)\n",
      "Requirement already satisfied: tzdata>=2022.7 in c:\\users\\linst\\appdata\\local\\packages\\pythonsoftwarefoundation.python.3.13_qbz5n2kfra8p0\\localcache\\local-packages\\python39\\site-packages (from pandas) (2025.2)\n",
      "Requirement already satisfied: python-dateutil>=2.8.2 in c:\\users\\linst\\appdata\\local\\packages\\pythonsoftwarefoundation.python.3.13_qbz5n2kfra8p0\\localcache\\local-packages\\python39\\site-packages (from pandas) (2.9.0.post0)\n",
      "Requirement already satisfied: six>=1.5 in c:\\users\\linst\\appdata\\local\\packages\\pythonsoftwarefoundation.python.3.13_qbz5n2kfra8p0\\localcache\\local-packages\\python39\\site-packages (from python-dateutil>=2.8.2->pandas) (1.17.0)\n"
     ]
    },
    {
     "name": "stderr",
     "output_type": "stream",
     "text": [
      "WARNING: You are using pip version 22.0.4; however, version 25.1.1 is available.\n",
      "You should consider upgrading via the 'C:\\Users\\linst\\AppData\\Local\\Microsoft\\WindowsApps\\PythonSoftwareFoundation.Python.3.9_qbz5n2kfra8p0\\python.exe -m pip install --upgrade pip' command.\n"
     ]
    }
   ],
   "source": [
    "!pip3 install pandas\n"
   ]
  },
  {
   "cell_type": "code",
   "execution_count": 4,
   "id": "ab8b6bec-74f2-483e-8e2b-382f120b884e",
   "metadata": {
    "scrolled": true
   },
   "outputs": [
    {
     "ename": "ModuleNotFoundError",
     "evalue": "No module named 'pandas'",
     "output_type": "error",
     "traceback": [
      "\u001b[31m---------------------------------------------------------------------------\u001b[39m",
      "\u001b[31mModuleNotFoundError\u001b[39m                       Traceback (most recent call last)",
      "\u001b[36mCell\u001b[39m\u001b[36m \u001b[39m\u001b[32mIn[4]\u001b[39m\u001b[32m, line 1\u001b[39m\n\u001b[32m----> \u001b[39m\u001b[32m1\u001b[39m \u001b[38;5;28;01mimport\u001b[39;00m\u001b[38;5;250m \u001b[39m\u001b[34;01mpandas\u001b[39;00m\u001b[38;5;250m \u001b[39m\u001b[38;5;28;01mas\u001b[39;00m\u001b[38;5;250m \u001b[39m\u001b[34;01mpd\u001b[39;00m\n\u001b[32m      2\u001b[39m \u001b[38;5;28;01mimport\u001b[39;00m\u001b[38;5;250m \u001b[39m\u001b[34;01mmath\u001b[39;00m\n\u001b[32m      3\u001b[39m df = pd.read_csv(\u001b[33m'\u001b[39m\u001b[33m../2024HealthcareFiles/OP_DTL_RSRCH_PGYR2024_P06302025_06162025.csv\u001b[39m\u001b[33m'\u001b[39m, low_memory = \u001b[38;5;28;01mFalse\u001b[39;00m)\n",
      "\u001b[31mModuleNotFoundError\u001b[39m: No module named 'pandas'"
     ]
    }
   ],
   "source": [
    "import pandas as pd\n",
    "import math\n",
    "df = pd.read_csv('../2024HealthcareFiles/OP_DTL_RSRCH_PGYR2024_P06302025_06162025.csv', low_memory = False)\n",
    "\n",
    "pd.reset_option('display.max_rows')\n",
    "pd.options.display.max_columns = None\n"
   ]
  },
  {
   "cell_type": "code",
   "execution_count": null,
   "id": "990cd96a-470b-465f-a33c-a68f07705e46",
   "metadata": {},
   "outputs": [],
   "source": [
    "#Counts the number of Nans under each column and displays it in a list\n",
    "\n",
    "counts_list = []\n",
    "for name, current_column in df.items():\n",
    "    count = 0\n",
    "    for value in current_column:\n",
    "        if type(value) is float:\n",
    "            if math.isnan(value):\n",
    "                count += 1\n",
    "    counts_list.append(count)"
   ]
  },
  {
   "cell_type": "code",
   "execution_count": 4,
   "id": "190e9482-69ef-4021-bc7a-fee6983b35d0",
   "metadata": {},
   "outputs": [],
   "source": [
    "\n",
    "#Take the list of number of Nans for each columns\n",
    "#And convert that list to a list of percentages of how much of each column  is NaN\n",
    "percentages_list=[]\n",
    "for current_count in counts_list:\n",
    "    percentages_list.append(current_count / len(df) * 100)\n",
    "    \n",
    "#Format those percentages to remove extraneous decimal points\n",
    "formatted_percentage_list = [\"{:.1f}\".format(percentage) for percentage in percentages_list]\n"
   ]
  },
  {
   "cell_type": "code",
   "execution_count": 6,
   "id": "48a22e2d-3f8c-4569-9846-1f92c2f102e8",
   "metadata": {},
   "outputs": [
    {
     "name": "stdout",
     "output_type": "stream",
     "text": [
      "252\n",
      "45\n",
      "\n",
      " \n",
      " ------------------Headers in cleaned data set------------------ \n",
      " \n",
      "['Change_Type', 'Covered_Recipient_Type', 'Noncovered_Recipient_Entity_Name', 'Recipient_Primary_Business_Street_Address_Line1', 'Recipient_City', 'Recipient_State', 'Recipient_Zip_Code', 'Recipient_Country', 'Principal_Investigator_1_Covered_Recipient_Type', 'Principal_Investigator_1_Profile_ID', 'Principal_Investigator_1_NPI', 'Principal_Investigator_1_First_Name', 'Principal_Investigator_1_Middle_Name', 'Principal_Investigator_1_Last_Name', 'Principal_Investigator_1_Business_Street_Address_Line1', 'Principal_Investigator_1_Business_Street_Address_Line2', 'Principal_Investigator_1_City', 'Principal_Investigator_1_State', 'Principal_Investigator_1_Zip_Code', 'Principal_Investigator_1_Country', 'Principal_Investigator_1_Primary_Type_1', 'Principal_Investigator_1_Specialty_1', 'Principal_Investigator_1_License_State_code1', 'Submitting_Applicable_Manufacturer_or_Applicable_GPO_Name', 'Applicable_Manufacturer_or_Applicable_GPO_Making_Payment_ID', 'Applicable_Manufacturer_or_Applicable_GPO_Making_Payment_Name', 'Applicable_Manufacturer_or_Applicable_GPO_Making_Payment_State', 'Applicable_Manufacturer_or_Applicable_GPO_Making_Payment_Country', 'Related_Product_Indicator', 'Covered_or_Noncovered_Indicator_1', 'Indicate_Drug_or_Biological_or_Device_or_Medical_Supply_1', 'Product_Category_or_Therapeutic_Area_1', 'Name_of_Drug_or_Biological_or_Device_or_Medical_Supply_1', 'Associated_Drug_or_Biological_NDC_1', 'Total_Amount_of_Payment_USDollars', 'Date_of_Payment', 'Form_of_Payment_or_Transfer_of_Value', 'Preclinical_Research_Indicator', 'Delay_in_Publication_Indicator', 'Name_of_Study', 'Dispute_Status_for_Publication', 'Record_ID', 'Program_Year', 'Payment_Publication_Date', 'ClinicalTrials_Gov_Identifier']\n",
      "Change_Type                                                                                                       NEW\n",
      "Covered_Recipient_Type                                                                   Non-covered Recipient Entity\n",
      "Noncovered_Recipient_Entity_Name                                                               Element Research Group\n",
      "Recipient_Primary_Business_Street_Address_Line1                                                 17806 W Interstate 10\n",
      "Recipient_City                                                                                            San Antonio\n",
      "Recipient_State                                                                                                    TX\n",
      "Recipient_Zip_Code                                                                                              78257\n",
      "Recipient_Country                                                                                       United States\n",
      "Principal_Investigator_1_Covered_Recipient_Type                                           Covered Recipient Physician\n",
      "Principal_Investigator_1_Profile_ID                                                                           81974.0\n",
      "Principal_Investigator_1_NPI                                                                             1821016023.0\n",
      "Principal_Investigator_1_First_Name                                                                             David\n",
      "Principal_Investigator_1_Middle_Name                                                                             Alan\n",
      "Principal_Investigator_1_Last_Name                                                                              Marks\n",
      "Principal_Investigator_1_Business_Street_Address_Line1                                        115 Gallery Cir Ste 102\n",
      "Principal_Investigator_1_Business_Street_Address_Line2                                                            NaN\n",
      "Principal_Investigator_1_City                                                                             San Antonio\n",
      "Principal_Investigator_1_State                                                                                     TX\n",
      "Principal_Investigator_1_Zip_Code                                                                               78258\n",
      "Principal_Investigator_1_Country                                                                        United States\n",
      "Principal_Investigator_1_Primary_Type_1                                                                Medical Doctor\n",
      "Principal_Investigator_1_Specialty_1                                Allopathic & Osteopathic Physicians|Internal M...\n",
      "Principal_Investigator_1_License_State_code1                                                                       TX\n",
      "Submitting_Applicable_Manufacturer_or_Applicable_GPO_Name                                                Insmed, Inc.\n",
      "Applicable_Manufacturer_or_Applicable_GPO_Making_Payment_ID                                              100000461811\n",
      "Applicable_Manufacturer_or_Applicable_GPO_Making_Payment_Name                                            Insmed, Inc.\n",
      "Applicable_Manufacturer_or_Applicable_GPO_Making_Payment_State                                                     NJ\n",
      "Applicable_Manufacturer_or_Applicable_GPO_Making_Payment_Country                                        United States\n",
      "Related_Product_Indicator                                                                                         Yes\n",
      "Covered_or_Noncovered_Indicator_1                                                                             Covered\n",
      "Indicate_Drug_or_Biological_or_Device_or_Medical_Supply_1                                                        Drug\n",
      "Product_Category_or_Therapeutic_Area_1                                                                    Respiratory\n",
      "Name_of_Drug_or_Biological_or_Device_or_Medical_Supply_1                                                     Arikayce\n",
      "Associated_Drug_or_Biological_NDC_1                                                                      71558-590-28\n",
      "Total_Amount_of_Payment_USDollars                                                                               300.0\n",
      "Date_of_Payment                                                                                            04/26/2024\n",
      "Form_of_Payment_or_Transfer_of_Value                                                          Cash or cash equivalent\n",
      "Preclinical_Research_Indicator                                                                                     No\n",
      "Delay_in_Publication_Indicator                                                                                     No\n",
      "Name_of_Study                                                       A Randomized, Double-Blind, Placebo-Controlled...\n",
      "Dispute_Status_for_Publication                                                                                     No\n",
      "Record_ID                                                                                                  1067598126\n",
      "Program_Year                                                                                                     2024\n",
      "Payment_Publication_Date                                                                                   06/30/2025\n",
      "ClinicalTrials_Gov_Identifier                                                                             NCT04677569\n",
      "Name: 33, dtype: object\n"
     ]
    }
   ],
   "source": [
    "#Find out which columns must be removed, and make a cleaned date frame \n",
    "list_of_column_names = []\n",
    "for index, percentage in enumerate(formatted_percentage_list):\n",
    "    if float(percentage) > 80.0: #Percentage Threshold of whether the column should be deleted\n",
    "        list_of_column_names.append(df.columns[index])\n",
    "\n",
    "cleaned_df = df.copy()\n",
    "cleaned_df.drop(columns=list_of_column_names, inplace=True)\n",
    "\n",
    "\n",
    "\n",
    "print (len(df.columns))\n",
    "print (len(cleaned_df.columns))\n",
    "print(\"\\n \\n ------------------Headers in cleaned data set------------------ \\n \")\n",
    "print(list(cleaned_df.columns))\n"
   ]
  },
  {
   "cell_type": "code",
   "execution_count": null,
   "id": "922e53ae-9216-404b-a1d1-ed33b36798e3",
   "metadata": {},
   "outputs": [],
   "source": []
  }
 ],
 "metadata": {
  "kernelspec": {
   "display_name": "Python 3",
   "language": "python",
   "name": "python3"
  },
  "language_info": {
   "codemirror_mode": {
    "name": "ipython",
    "version": 3
   },
   "file_extension": ".py",
   "mimetype": "text/x-python",
   "name": "python",
   "nbconvert_exporter": "python",
   "pygments_lexer": "ipython3",
   "version": "3.9.13"
  }
 },
 "nbformat": 4,
 "nbformat_minor": 5
}
